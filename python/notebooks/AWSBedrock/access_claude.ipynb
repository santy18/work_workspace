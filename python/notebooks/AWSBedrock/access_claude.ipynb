{
 "cells": [
  {
   "cell_type": "code",
   "execution_count": 1,
   "id": "1a750bc9-80c8-4b73-9045-11a086f8e5a3",
   "metadata": {},
   "outputs": [],
   "source": [
    "# Using an existing model"
   ]
  },
  {
   "cell_type": "code",
   "execution_count": 96,
   "id": "b60e4609-1326-4240-85f2-1535bd2d1213",
   "metadata": {},
   "outputs": [],
   "source": [
    "import os\n",
    "import json\n",
    "import boto3"
   ]
  },
  {
   "cell_type": "code",
   "execution_count": 97,
   "id": "4fcf47cd-937b-49cc-85fb-caa5cd1a6bf9",
   "metadata": {},
   "outputs": [],
   "source": [
    "# Initialize a session with AWS. This sets up the credentials for AWS access.\n",
    "# The credentials are typically sourced from environment variables or configuration files.\n",
    "session = boto3.Session()"
   ]
  },
  {
   "cell_type": "code",
   "execution_count": 98,
   "id": "716d198d-f8d0-4fd9-a520-7c91bc9a4b18",
   "metadata": {},
   "outputs": [],
   "source": [
    "\n",
    "# Create a client for the 'bedrock-runtime' service. This service is used to interact with AWS Bedrock.\n",
    "bedrock = session.client(service_name='bedrock-runtime', region_name=\"us-east-1\") "
   ]
  },
  {
   "cell_type": "code",
   "execution_count": 99,
   "id": "abdf551c-ac95-485c-842b-1b4f1d778dd3",
   "metadata": {},
   "outputs": [],
   "source": [
    "# Define the parameters for invoking the model.\n",
    "# 'prompt_text' is the input text for the model, which should be formatted as a dialog.\n",
    "prompt_text = \"Human: Which is the largest continent\\nAssistant:\"\n"
   ]
  },
  {
   "cell_type": "code",
   "execution_count": 100,
   "id": "3620de1e-95f7-4ca6-ad92-e3c34df56679",
   "metadata": {},
   "outputs": [],
   "source": [
    "prompt_params = {\n",
    "    \"anthropic_version\": \"bedrock-2023-05-31\",\n",
    "    \"max_tokens\": 512,  # 'max_tokens_to_sample' defines the maximum length of the model's response.\n",
    "    \"temperature\": 0.5, # 'temperature' controls the randomness of the response. Lower values make responses more predictable.\n",
    "    \"top_k\": 250,# 'top_k' limits the model's choices to the top K most likely next words.\n",
    "    \"top_p\": 0.5,  # 'top_p' is an alternative to top_k, where the model considers a dynamic number of words.\n",
    "    \"messages\": [\n",
    "        {\n",
    "            \"role\": \"user\",\n",
    "            \"content\": [{\"type\": \"text\", \"text\": prompt_text}],\n",
    "        }\n",
    "    ],\n",
    "}\n"
   ]
  },
  {
   "cell_type": "code",
   "execution_count": 101,
   "id": "5157ab6a-8d9b-497a-82f6-3c1742865594",
   "metadata": {},
   "outputs": [],
   "source": [
    "# Convert the prompt parameters to a JSON string and then encode it to bytes.\n",
    "# This is required as the Bedrock API expects the payload in this format.\n",
    "body = json.dumps(prompt_params).encode('utf-8')"
   ]
  },
  {
   "cell_type": "code",
   "execution_count": 104,
   "id": "6912fbda-1d45-4391-954a-6d4d7ed88a5a",
   "metadata": {},
   "outputs": [],
   "source": [
    "# Invoke the model using the Bedrock client. \n",
    "# The 'modelId' parameter specifies the model to use, in this case, 'anthropic.claude-v2'.\n",
    "# 'accept' and 'contentType' specify the format of the request and response.\n",
    "\n",
    "# use the inference profile instead of the model itself, https://us-east-1.console.aws.amazon.com/bedrock/home?region=us-east-1#/inference-profiles/us.anthropic.claude-3-7-sonnet-20250219-v1:0\n",
    "response = bedrock.invoke_model(\n",
    "    body=body,\n",
    "    modelId=\"us.anthropic.claude-3-7-sonnet-20250219-v1:0\", \n",
    "    accept='application/json', \n",
    "    contentType='application/json'\n",
    ")"
   ]
  },
  {
   "cell_type": "code",
   "execution_count": 105,
   "id": "6f9ecddc-b837-425b-b1e8-ad976e961c7c",
   "metadata": {},
   "outputs": [],
   "source": [
    "# Decode the response body.\n",
    "model_response = json.loads(response[\"body\"].read())\n"
   ]
  },
  {
   "cell_type": "code",
   "execution_count": 106,
   "id": "0bfeb387-d282-4284-a789-06b81d73b4b8",
   "metadata": {},
   "outputs": [
    {
     "name": "stdout",
     "output_type": "stream",
     "text": [
      "{'id': 'msg_bdrk_01D5BLdrN6i676qMaTHLjzVd', 'type': 'message', 'role': 'assistant', 'model': 'claude-3-7-sonnet-20250219', 'content': [{'type': 'text', 'text': \"Asia is the largest continent on Earth, both in terms of land area and population. It covers approximately 44.58 million square kilometers (17.2 million square miles), which is about 30% of Earth's total land area. Asia is home to roughly 60% of the world's population.\"}], 'stop_reason': 'end_turn', 'stop_sequence': None, 'usage': {'input_tokens': 17, 'cache_creation_input_tokens': 0, 'cache_read_input_tokens': 0, 'output_tokens': 67}}\n"
     ]
    }
   ],
   "source": [
    "print(model_response)"
   ]
  },
  {
   "cell_type": "code",
   "execution_count": 107,
   "id": "2d2e1d24-b380-4c52-a6b3-519c8d0f6a5c",
   "metadata": {},
   "outputs": [
    {
     "name": "stdout",
     "output_type": "stream",
     "text": [
      "Asia is the largest continent on Earth, both in terms of land area and population. It covers approximately 44.58 million square kilometers (17.2 million square miles), which is about 30% of Earth's total land area. Asia is home to roughly 60% of the world's population.\n"
     ]
    }
   ],
   "source": [
    "# Extract and print the response text.\n",
    "response_text = model_response[\"content\"][0][\"text\"]\n",
    "print(response_text)"
   ]
  },
  {
   "cell_type": "code",
   "execution_count": null,
   "id": "d95d47ce-85dc-4723-8d06-f403fc1b0246",
   "metadata": {},
   "outputs": [],
   "source": []
  }
 ],
 "metadata": {
  "kernelspec": {
   "display_name": "Python 3 (ipykernel)",
   "language": "python",
   "name": "python3"
  },
  "language_info": {
   "codemirror_mode": {
    "name": "ipython",
    "version": 3
   },
   "file_extension": ".py",
   "mimetype": "text/x-python",
   "name": "python",
   "nbconvert_exporter": "python",
   "pygments_lexer": "ipython3",
   "version": "3.12.11"
  }
 },
 "nbformat": 4,
 "nbformat_minor": 5
}
