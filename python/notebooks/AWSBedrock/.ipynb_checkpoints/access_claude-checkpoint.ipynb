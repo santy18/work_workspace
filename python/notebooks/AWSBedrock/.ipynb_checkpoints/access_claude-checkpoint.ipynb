{
 "cells": [
  {
   "cell_type": "code",
   "execution_count": 1,
   "id": "1a750bc9-80c8-4b73-9045-11a086f8e5a3",
   "metadata": {},
   "outputs": [],
   "source": [
    "# Using an existing model"
   ]
  },
  {
   "cell_type": "code",
   "execution_count": 24,
   "id": "b60e4609-1326-4240-85f2-1535bd2d1213",
   "metadata": {},
   "outputs": [],
   "source": [
    "import os\n",
    "import json\n",
    "import boto3"
   ]
  },
  {
   "cell_type": "code",
   "execution_count": 25,
   "id": "4fcf47cd-937b-49cc-85fb-caa5cd1a6bf9",
   "metadata": {},
   "outputs": [],
   "source": [
    "# Initialize a session with AWS. This sets up the credentials for AWS access.\n",
    "# The credentials are typically sourced from environment variables or configuration files.\n",
    "session = boto3.Session()"
   ]
  },
  {
   "cell_type": "code",
   "execution_count": 26,
   "id": "716d198d-f8d0-4fd9-a520-7c91bc9a4b18",
   "metadata": {},
   "outputs": [],
   "source": [
    "\n",
    "# Create a client for the 'bedrock-runtime' service. This service is used to interact with AWS Bedrock.\n",
    "bedrock = session.client(service_name='bedrock-runtime', region_name=\"us-east-1\") "
   ]
  },
  {
   "cell_type": "code",
   "execution_count": 27,
   "id": "abdf551c-ac95-485c-842b-1b4f1d778dd3",
   "metadata": {},
   "outputs": [],
   "source": [
    "# Define the parameters for invoking the model.\n",
    "# 'prompt_text' is the input text for the model, which should be formatted as a dialog.\n",
    "prompt_text = \"Human: Which is the largest continent\\nAssistant:\"\n"
   ]
  },
  {
   "cell_type": "code",
   "execution_count": 28,
   "id": "3620de1e-95f7-4ca6-ad92-e3c34df56679",
   "metadata": {},
   "outputs": [],
   "source": [
    "prompt_params = {\n",
    "    \"prompt\": prompt_text,# 'prompt' is the input text for the model.\n",
    "    \"max_tokens_to_sample\": 4096, # 'max_tokens_to_sample' defines the maximum length of the model's response.\n",
    "    \"temperature\": 0.5,# 'temperature' controls the randomness of the response. Lower values make responses more predictable.\n",
    "    \"top_k\": 250,# 'top_k' limits the model's choices to the top K most likely next words.\n",
    "    \"top_p\": 0.5,  # 'top_p' is an alternative to top_k, where the model considers a dynamic number of words.\n",
    "    \"stop_sequences\": [\"\\n\"] # 'stop_sequences' are tokens at which the model will stop generating further content.\n",
    "}\n"
   ]
  },
  {
   "cell_type": "code",
   "execution_count": 29,
   "id": "5157ab6a-8d9b-497a-82f6-3c1742865594",
   "metadata": {},
   "outputs": [],
   "source": [
    "# Convert the prompt parameters to a JSON string and then encode it to bytes.\n",
    "# This is required as the Bedrock API expects the payload in this format.\n",
    "body = json.dumps(prompt_params).encode('utf-8')"
   ]
  },
  {
   "cell_type": "code",
   "execution_count": 30,
   "id": "6912fbda-1d45-4391-954a-6d4d7ed88a5a",
   "metadata": {},
   "outputs": [
    {
     "ename": "AccessDeniedException",
     "evalue": "An error occurred (AccessDeniedException) when calling the InvokeModel operation: You don't have access to the model with the specified model ID.",
     "output_type": "error",
     "traceback": [
      "\u001b[31m---------------------------------------------------------------------------\u001b[39m",
      "\u001b[31mAccessDeniedException\u001b[39m                     Traceback (most recent call last)",
      "\u001b[36mCell\u001b[39m\u001b[36m \u001b[39m\u001b[32mIn[30]\u001b[39m\u001b[32m, line 4\u001b[39m\n\u001b[32m      1\u001b[39m \u001b[38;5;66;03m# Invoke the model using the Bedrock client. \u001b[39;00m\n\u001b[32m      2\u001b[39m \u001b[38;5;66;03m# The 'modelId' parameter specifies the model to use, in this case, 'anthropic.claude-v2'.\u001b[39;00m\n\u001b[32m      3\u001b[39m \u001b[38;5;66;03m# 'accept' and 'contentType' specify the format of the request and response.\u001b[39;00m\n\u001b[32m----> \u001b[39m\u001b[32m4\u001b[39m response = \u001b[43mbedrock\u001b[49m\u001b[43m.\u001b[49m\u001b[43minvoke_model\u001b[49m\u001b[43m(\u001b[49m\n\u001b[32m      5\u001b[39m \u001b[43m    \u001b[49m\u001b[43mbody\u001b[49m\u001b[43m=\u001b[49m\u001b[43mbody\u001b[49m\u001b[43m,\u001b[49m\n\u001b[32m      6\u001b[39m \u001b[43m    \u001b[49m\u001b[43mmodelId\u001b[49m\u001b[43m=\u001b[49m\u001b[33;43m\"\u001b[39;49m\u001b[33;43manthropic.claude-v2\u001b[39;49m\u001b[33;43m\"\u001b[39;49m\u001b[43m,\u001b[49m\u001b[43m \u001b[49m\n\u001b[32m      7\u001b[39m \u001b[43m    \u001b[49m\u001b[43maccept\u001b[49m\u001b[43m=\u001b[49m\u001b[33;43m'\u001b[39;49m\u001b[33;43mapplication/json\u001b[39;49m\u001b[33;43m'\u001b[39;49m\u001b[43m,\u001b[49m\u001b[43m \u001b[49m\n\u001b[32m      8\u001b[39m \u001b[43m    \u001b[49m\u001b[43mcontentType\u001b[49m\u001b[43m=\u001b[49m\u001b[33;43m'\u001b[39;49m\u001b[33;43mapplication/json\u001b[39;49m\u001b[33;43m'\u001b[39;49m\n\u001b[32m      9\u001b[39m \u001b[43m)\u001b[49m\n",
      "\u001b[36mFile \u001b[39m\u001b[32m~/miniforge3/lib/python3.12/site-packages/botocore/client.py:602\u001b[39m, in \u001b[36mClientCreator._create_api_method.<locals>._api_call\u001b[39m\u001b[34m(self, *args, **kwargs)\u001b[39m\n\u001b[32m    598\u001b[39m     \u001b[38;5;28;01mraise\u001b[39;00m \u001b[38;5;167;01mTypeError\u001b[39;00m(\n\u001b[32m    599\u001b[39m         \u001b[33mf\u001b[39m\u001b[33m\"\u001b[39m\u001b[38;5;132;01m{\u001b[39;00mpy_operation_name\u001b[38;5;132;01m}\u001b[39;00m\u001b[33m() only accepts keyword arguments.\u001b[39m\u001b[33m\"\u001b[39m\n\u001b[32m    600\u001b[39m     )\n\u001b[32m    601\u001b[39m \u001b[38;5;66;03m# The \"self\" in this scope is referring to the BaseClient.\u001b[39;00m\n\u001b[32m--> \u001b[39m\u001b[32m602\u001b[39m \u001b[38;5;28;01mreturn\u001b[39;00m \u001b[38;5;28;43mself\u001b[39;49m\u001b[43m.\u001b[49m\u001b[43m_make_api_call\u001b[49m\u001b[43m(\u001b[49m\u001b[43moperation_name\u001b[49m\u001b[43m,\u001b[49m\u001b[43m \u001b[49m\u001b[43mkwargs\u001b[49m\u001b[43m)\u001b[49m\n",
      "\u001b[36mFile \u001b[39m\u001b[32m~/miniforge3/lib/python3.12/site-packages/botocore/context.py:123\u001b[39m, in \u001b[36mwith_current_context.<locals>.decorator.<locals>.wrapper\u001b[39m\u001b[34m(*args, **kwargs)\u001b[39m\n\u001b[32m    121\u001b[39m \u001b[38;5;28;01mif\u001b[39;00m hook:\n\u001b[32m    122\u001b[39m     hook()\n\u001b[32m--> \u001b[39m\u001b[32m123\u001b[39m \u001b[38;5;28;01mreturn\u001b[39;00m \u001b[43mfunc\u001b[49m\u001b[43m(\u001b[49m\u001b[43m*\u001b[49m\u001b[43margs\u001b[49m\u001b[43m,\u001b[49m\u001b[43m \u001b[49m\u001b[43m*\u001b[49m\u001b[43m*\u001b[49m\u001b[43mkwargs\u001b[49m\u001b[43m)\u001b[49m\n",
      "\u001b[36mFile \u001b[39m\u001b[32m~/miniforge3/lib/python3.12/site-packages/botocore/client.py:1078\u001b[39m, in \u001b[36mBaseClient._make_api_call\u001b[39m\u001b[34m(self, operation_name, api_params)\u001b[39m\n\u001b[32m   1074\u001b[39m     error_code = request_context.get(\n\u001b[32m   1075\u001b[39m         \u001b[33m'\u001b[39m\u001b[33merror_code_override\u001b[39m\u001b[33m'\u001b[39m\n\u001b[32m   1076\u001b[39m     ) \u001b[38;5;129;01mor\u001b[39;00m error_info.get(\u001b[33m\"\u001b[39m\u001b[33mCode\u001b[39m\u001b[33m\"\u001b[39m)\n\u001b[32m   1077\u001b[39m     error_class = \u001b[38;5;28mself\u001b[39m.exceptions.from_code(error_code)\n\u001b[32m-> \u001b[39m\u001b[32m1078\u001b[39m     \u001b[38;5;28;01mraise\u001b[39;00m error_class(parsed_response, operation_name)\n\u001b[32m   1079\u001b[39m \u001b[38;5;28;01melse\u001b[39;00m:\n\u001b[32m   1080\u001b[39m     \u001b[38;5;28;01mreturn\u001b[39;00m parsed_response\n",
      "\u001b[31mAccessDeniedException\u001b[39m: An error occurred (AccessDeniedException) when calling the InvokeModel operation: You don't have access to the model with the specified model ID."
     ]
    }
   ],
   "source": [
    "# Invoke the model using the Bedrock client. \n",
    "# The 'modelId' parameter specifies the model to use, in this case, 'anthropic.claude-v2'.\n",
    "# 'accept' and 'contentType' specify the format of the request and response.\n",
    "response = bedrock.invoke_model(\n",
    "    body=body,\n",
    "    modelId=\"anthropic.claude-3-7-sonnet-20250219-v1:0\", \n",
    "    accept='application/json', \n",
    "    contentType='application/json'\n",
    ")"
   ]
  },
  {
   "cell_type": "code",
   "execution_count": null,
   "id": "6d8780b7-33a9-4289-9f2e-249459b90dca",
   "metadata": {},
   "outputs": [],
   "source": []
  }
 ],
 "metadata": {
  "kernelspec": {
   "display_name": "Python 3 (ipykernel)",
   "language": "python",
   "name": "python3"
  },
  "language_info": {
   "codemirror_mode": {
    "name": "ipython",
    "version": 3
   },
   "file_extension": ".py",
   "mimetype": "text/x-python",
   "name": "python",
   "nbconvert_exporter": "python",
   "pygments_lexer": "ipython3",
   "version": "3.12.11"
  }
 },
 "nbformat": 4,
 "nbformat_minor": 5
}
