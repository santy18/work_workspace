{
 "cells": [
  {
   "cell_type": "code",
   "execution_count": 1,
   "id": "8129b896-994a-4c2d-9a26-c018bd32eff2",
   "metadata": {},
   "outputs": [],
   "source": [
    "from langchain_experimental.tools.python.tool import PythonREPLTool\n",
    "from langchain.agents.agent_types import AgentType\n",
    "import subprocess\n",
    "import os\n",
    "import os\n",
    "import json \n",
    "from langchain_openai import ChatOpenAI\n",
    "from langchain_core.runnables import RunnableLambda, RunnableConfig\n",
    "from langchain_core.tools import tool\n",
    "from langgraph.graph import StateGraph, END\n",
    "import subprocess\n",
    "import os\n",
    "import pandas as pd"
   ]
  },
  {
   "cell_type": "code",
   "execution_count": 2,
   "id": "5a58cb51-343b-47f8-8e1b-f4e2fa7736a1",
   "metadata": {},
   "outputs": [],
   "source": [
    "# === LangGraph State ===\n",
    "class AgentState(dict):\n",
    "    \"\"\"Holds state for LangGraph agent.\"\"\"\n",
    "    pass\n",
    "\n"
   ]
  },
  {
   "cell_type": "code",
   "execution_count": 3,
   "id": "5ec67a7e-a956-4fd0-979c-1d26bdde0dab",
   "metadata": {},
   "outputs": [],
   "source": [
    "# Shared memory\n",
    "context = {\n",
    "    \"current_file\": None,\n",
    "    \"current_test\": None,\n",
    "    \"last_output\": None\n",
    "}"
   ]
  },
  {
   "cell_type": "code",
   "execution_count": 4,
   "id": "5475cf1d-b8ac-40a8-bf8b-c9f650854b3e",
   "metadata": {},
   "outputs": [],
   "source": [
    "llm = ChatOpenAI(\n",
    "    model=\"gpt-4o-mini\",            # Use a lightweight GPT-4 model\n",
    "    temperature=0,                  # Deterministic output (no randomness)\n",
    "    api_key=os.environ[\"OPEN_AI_SECRET_KEY\"]  # Pull your OpenAI key from environment\n",
    ")"
   ]
  },
  {
   "cell_type": "code",
   "execution_count": 21,
   "id": "a850b41f-a0af-4164-9da8-a360920931e7",
   "metadata": {},
   "outputs": [],
   "source": [
    "# ==========================================================\n",
    "# === TOOLS ===\n",
    "# ==========================================================\n",
    "\n",
    "\n",
    "\n",
    "# === TOOL 1: Write a code file ===\n",
    "@tool\n",
    "def write_file_tool(input: dict) -> str:\n",
    "    \"\"\"Write Python code to a file.\"\"\"\n",
    "    file_path = input[\"file_path\"]\n",
    "    code = input[\"code\"]\n",
    "\n",
    "    # Remove markdown ```python or ``` wrappers if present\n",
    "    code = re.sub(r\"^```(?:python)?\\\\n\", \"\", code.strip())\n",
    "    code = re.sub(r\"```$\", \"\", code.strip())\n",
    "\n",
    "    with open(file_path, \"w\") as f:\n",
    "        f.write(code)\n",
    "    return f\"✅ Wrote file: {file_path}\"\n",
    "\n",
    "# === TOOL 2: Run tests using pytest ===\n",
    "@tool\n",
    "def run_pytest_tool(input: dict) -> str:\n",
    "    \"\"\"Run pytest on a file and return output.\"\"\"\n",
    "    file_path = input[\"file_path\"]\n",
    "    result = subprocess.run([\n",
    "        \"python\", \"-m\", \"pytest\", file_path, \"--disable-warnings\", \"-q\"\n",
    "    ], capture_output=True, text=True)\n",
    "    return result.stdout + result.stderr\n",
    "\n",
    "# === TOOL 3: Execute a Python script ===\n",
    "@tool\n",
    "def execute_script_tool(input: dict) -> str:\n",
    "    \"\"\"Execute a Python script and return output.\"\"\"\n",
    "    file_path = input[\"file_path\"]\n",
    "    result = subprocess.run([\"python\", file_path], capture_output=True, text=True)\n",
    "    return result.stdout + result.stderr\n",
    "\n",
    "tools = [write_file_tool, run_pytest_tool, execute_script_tool]\n",
    "\n",
    "llm_with_tools = llm.bind_tools(tools)\n",
    "\n",
    "query = \"write a calculator\"\n",
    "result_gpt = llm_with_tools.invoke(query)"
   ]
  },
  {
   "cell_type": "code",
   "execution_count": 22,
   "id": "1ee6df81-c9d7-4034-9a94-2018161bc016",
   "metadata": {},
   "outputs": [
    {
     "data": {
      "text/plain": [
       "[{'name': 'write_file_tool',\n",
       "  'args': {},\n",
       "  'id': 'call_T93BI0g69OO8DSIXfp2eRrsd',\n",
       "  'type': 'tool_call'}]"
      ]
     },
     "execution_count": 22,
     "metadata": {},
     "output_type": "execute_result"
    }
   ],
   "source": [
    "result_gpt.tool_calls"
   ]
  },
  {
   "cell_type": "code",
   "execution_count": 23,
   "id": "c882edf5-1920-46a7-a8b6-182159f7488c",
   "metadata": {},
   "outputs": [
    {
     "data": {
      "text/plain": [
       "''"
      ]
     },
     "execution_count": 23,
     "metadata": {},
     "output_type": "execute_result"
    }
   ],
   "source": [
    "result_gpt.content"
   ]
  },
  {
   "cell_type": "code",
   "execution_count": 6,
   "id": "7045ec4d-6a5a-4d87-bc7f-ec572422c527",
   "metadata": {},
   "outputs": [],
   "source": [
    "# ==========================================================\n",
    "# === NODES ===\n",
    "# ==========================================================\n",
    "\n",
    "# === NODE 1: Plan the goal ===\n",
    "def planner_node(state: AgentState):\n",
    "    goal = state.get(\"input\", \"build a tool\")\n",
    "    return {\"goal\": goal}\n",
    "\n",
    "# === NODE 2: Generate test file based on goal ===\n",
    "def write_test_node(state: AgentState):\n",
    "    goal = state.get(\"goal\")\n",
    "    prompt = f\"\"\"\n",
    "Write a Python test file using pytest that validates the functionality of a tool based on this goal:\n",
    "\"{goal}\"\n",
    "Only output the code. Use a descriptive file name like test_<something>.py.\n",
    "\"\"\"\n",
    "    test_code = llm.invoke(prompt).content\n",
    "    file_path = \"test_tool.py\"\n",
    "    if \"test_\" in test_code:\n",
    "        first_line = test_code.strip().split(\"\\n\")[0]\n",
    "        if \"test_\" in first_line and \".py\" in first_line:\n",
    "            file_path = first_line.strip().replace(\"#\", \"\").strip()\n",
    "    write_file_tool.invoke({\"file_path\": file_path, \"code\": test_code})\n",
    "    return {\"test_file\": file_path, \"test_code\": test_code}\n",
    "\n",
    "# === NODE 3: Generate implementation that passes the test ===\n",
    "def write_code_node(state: AgentState):\n",
    "    test_code = state.get(\"test_code\")\n",
    "    prompt = f\"\"\"\n",
    "Here is a Python test file written with pytest:\n",
    "\n",
    "{test_code}\n",
    "\n",
    "Write the Python implementation so that this test passes. Only return the code.\n",
    "\"\"\"\n",
    "    code = llm.invoke(prompt).content\n",
    "    file_path = \"tool.py\"\n",
    "    write_file_tool.invoke({\"file_path\": file_path, \"code\": code})\n",
    "    return {\"code_file\": file_path, \"code\": code}\n",
    "\n",
    "# === NODE 4: Run the generated test file ===\n",
    "def run_test_node(state: AgentState):\n",
    "    test_file = state.get(\"test_file\", \"test_tool.py\")\n",
    "    output = run_pytest_tool.invoke({\"file_path\": test_file})\n",
    "    return {\"test_output\": output}\n",
    "\n",
    "# === NODE 5: Generate and execute script using the tool ===\n",
    "def run_script_node(state: AgentState):\n",
    "    goal = state.get(\"goal\")\n",
    "    code = state.get(\"code\")\n",
    "    prompt = f\"\"\"\n",
    "Here is a Python tool:\n",
    "\n",
    "{code}\n",
    "\n",
    "Write a short Python script that imports this tool and uses it to demonstrate its output.\n",
    "Only return the script code.\n",
    "\"\"\"\n",
    "    script_code = llm.invoke(prompt).content\n",
    "    file_path = \"run_tool.py\"\n",
    "    write_file_tool.invoke({\"file_path\": file_path, \"code\": script_code})\n",
    "    output = execute_script_tool.invoke({\"file_path\": file_path})\n",
    "    return {\"final_output\": output}"
   ]
  },
  {
   "cell_type": "code",
   "execution_count": 12,
   "id": "e754ee74-9805-48d8-9012-4ed2b0fa8ae3",
   "metadata": {},
   "outputs": [],
   "source": [
    "# === Define the LangGraph ===\n",
    "graph = StateGraph(AgentState)\n",
    "graph.add_node(\"planner\", RunnableLambda(planner_node))\n",
    "# graph.add_node(\"write_test\", RunnableLambda(write_test_node))\n",
    "# graph.add_node(\"write_code\", RunnableLambda(write_code_node))\n",
    "# graph.add_node(\"run_tests\", RunnableLambda(run_test_node))\n",
    "# graph.add_node(\"execute\", RunnableLambda(run_script_node))\n",
    "\n",
    "# Edges (linear for now)\n",
    "graph.set_entry_point(\"planner\")\n",
    "# graph.add_edge(\"planner\", \"write_test\")\n",
    "# graph.add_edge(\"write_test\", \"write_code\")\n",
    "# graph.add_edge(\"write_code\", \"run_tests\")\n",
    "# graph.add_edge(\"run_tests\", \"execute\")\n",
    "graph.add_edge(\"planner\", END)\n",
    "\n",
    "# # Compile the graph\n",
    "app = graph.compile()\n",
    "\n",
    "# from IPython.display import Image, display"
   ]
  },
  {
   "cell_type": "code",
   "execution_count": 15,
   "id": "264b142c-0b51-45be-a267-0952485acc5c",
   "metadata": {},
   "outputs": [
    {
     "data": {
      "image/png": "[encoded data removed]",
      "text/plain": [
       "<IPython.core.display.Image object>"
      ]
     },
     "metadata": {},
     "output_type": "display_data"
    }
   ],
   "source": [
    "from IPython.display import Image, display\n",
    "\n",
    "try:\n",
    "    display(Image(data=app.get_graph().draw_mermaid_png()))\n",
    "except Exception as e:\n",
    "    print(f\"Error displaying graph: {e}\")\n"
   ]
  },
  {
   "cell_type": "code",
   "execution_count": 14,
   "id": "86651258-6555-4634-a639-eb1e80509247",
   "metadata": {},
   "outputs": [
    {
     "name": "stdout",
     "output_type": "stream",
     "text": [
      "\n",
      "✅ FINAL OUTPUT:\n",
      "\n",
      "None\n"
     ]
    }
   ],
   "source": [
    "# Run it\n",
    "input_state = {\"input\": \"create a calculator\"}\n",
    "final_state = app.invoke(input_state)\n",
    "print(\"\\n✅ FINAL OUTPUT:\\n\")\n",
    "print(final_state)"
   ]
  },
  {
   "cell_type": "code",
   "execution_count": null,
   "id": "e047165e-3c56-44f4-ad08-a60384f6313d",
   "metadata": {},
   "outputs": [],
   "source": []
  }
 ],
 "metadata": {
  "kernelspec": {
   "display_name": "Python 3 (ipykernel)",
   "language": "python",
   "name": "python3"
  },
  "language_info": {
   "codemirror_mode": {
    "name": "ipython",
    "version": 3
   },
   "file_extension": ".py",
   "mimetype": "text/x-python",
   "name": "python",
   "nbconvert_exporter": "python",
   "pygments_lexer": "ipython3",
   "version": "3.12.11"
  }
 },
 "nbformat": 4,
 "nbformat_minor": 5
}
