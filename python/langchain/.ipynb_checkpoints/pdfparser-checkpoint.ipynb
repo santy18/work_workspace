{
 "cells": [
  {
   "cell_type": "markdown",
   "id": "bbaaf7af-aee1-41df-9ce4-ef7903e05ea5",
   "metadata": {},
   "source": [
    "# PDF to markdown \n",
    "pip install pypdf pymupdf"
   ]
  },
  {
   "cell_type": "code",
   "execution_count": 1,
   "id": "245caa33-2504-4462-9280-113123536fa8",
   "metadata": {},
   "outputs": [],
   "source": [
    "# pdf_to_markdown.py\n",
    "import os, sys, pathlib\n",
    "from langchain_community.document_loaders import PyMuPDFLoader\n",
    "from langchain_text_splitters import RecursiveCharacterTextSplitter\n",
    "from langchain_openai import ChatOpenAI\n",
    "from langchain_core.prompts import ChatPromptTemplate\n",
    "from langchain_core.output_parsers import StrOutputParser"
   ]
  },
  {
   "cell_type": "code",
   "execution_count": 6,
   "id": "45183d0d-03e0-4e5b-ae21-9fc83910bb9c",
   "metadata": {},
   "outputs": [
    {
     "name": "stdout",
     "output_type": "stream",
     "text": [
      "in_path: /home/santy/programming/python/langchain/mypdf.pdf out_path: /home/santy/programming/python/langchain/mypdf.md\n"
     ]
    }
   ],
   "source": [
    "in_path = pathlib.Path(\"mypdf.pdf\").expanduser().resolve()\n",
    "out_path = pathlib.Path(\"mypdf.md\").expanduser().resolve()\n",
    "print(f\"in_path: {in_path} out_path: {out_path}\")"
   ]
  },
  {
   "cell_type": "code",
   "execution_count": 4,
   "id": "9d98bd19-3f3a-46f9-a644-34079c57045b",
   "metadata": {},
   "outputs": [
    {
     "data": {
      "text/plain": [
       "PosixPath('/home/santy/programming/python/langchain/mypdf')"
      ]
     },
     "execution_count": 4,
     "metadata": {},
     "output_type": "execute_result"
    }
   ],
   "source": [
    "    # 1) Load PDF -> LangChain Documents (page-level)\n",
    "    loader = PyMuPDFLoader(str(in_path))\n",
    "    docs = loader.load()  # one Document per page (metadata includes page number)"
   ]
  },
  {
   "cell_type": "code",
   "execution_count": null,
   "id": "c1abefb5-9fe0-48ca-963b-56ad8892e3f4",
   "metadata": {},
   "outputs": [],
   "source": []
  }
 ],
 "metadata": {
  "kernelspec": {
   "display_name": "Python 3 (ipykernel)",
   "language": "python",
   "name": "python3"
  },
  "language_info": {
   "codemirror_mode": {
    "name": "ipython",
    "version": 3
   },
   "file_extension": ".py",
   "mimetype": "text/x-python",
   "name": "python",
   "nbconvert_exporter": "python",
   "pygments_lexer": "ipython3",
   "version": "3.12.11"
  }
 },
 "nbformat": 4,
 "nbformat_minor": 5
}
