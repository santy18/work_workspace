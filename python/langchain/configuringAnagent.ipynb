{
 "cells": [
  {
   "cell_type": "code",
   "execution_count": 35,
   "id": "4e2ee421-06eb-4e6e-8873-f63e9955eba2",
   "metadata": {},
   "outputs": [],
   "source": [
    "# tdd_agentic_framework.py\n",
    "\n",
    "import subprocess\n",
    "import os\n",
    "import json \n",
    "from langchain_openai import ChatOpenAI\n",
    "from langchain_core.tools import tool\n",
    "from langgraph.graph import StateGraph,START, END\n",
    "import pandas as pd\n",
    "\n",
    "from langgraph.prebuilt import create_react_agent\n",
    "from langchain_openai import ChatOpenAI\n",
    "from pydantic import BaseModel\n",
    "from IPython.display import Image, display\n",
    "\n",
    "from langgraph.checkpoint.memory import InMemorySaver\n"
   ]
  },
  {
   "cell_type": "code",
   "execution_count": 36,
   "id": "8419b2fe-76be-4d8a-a66d-5f321acc7a36",
   "metadata": {},
   "outputs": [],
   "source": [
    "# give agent memory\n",
    "checkpointer = InMemorySaver()"
   ]
  },
  {
   "cell_type": "code",
   "execution_count": 37,
   "id": "2f50a708-2656-414b-8ef2-dc41c3702af7",
   "metadata": {},
   "outputs": [
    {
     "data": {
      "text/plain": [
       "ChatOpenAI(client=<openai.resources.chat.completions.completions.Completions object at 0x766b17a49c40>, async_client=<openai.resources.chat.completions.completions.AsyncCompletions object at 0x766b17a4a150>, root_client=<openai.OpenAI object at 0x766b17a4a360>, root_async_client=<openai.AsyncOpenAI object at 0x766b17a4a030>, model_name='gpt-4o-mini', temperature=0.0, model_kwargs={}, openai_api_key=SecretStr('**********'))"
      ]
     },
     "execution_count": 37,
     "metadata": {},
     "output_type": "execute_result"
    }
   ],
   "source": [
    "# build your agent\n",
    "llm = ChatOpenAI(\n",
    "    model=\"gpt-4o-mini\",            # Use a lightweight GPT-4 model\n",
    "    temperature=0,                  # Deterministic output (no randomness)\n",
    "    api_key=os.environ[\"OPEN_AI_SECRET_KEY\"]  # Pull your OpenAI key from environment\n",
    ")\n",
    "\n",
    "llm"
   ]
  },
  {
   "cell_type": "code",
   "execution_count": 38,
   "id": "cda61a2b-891e-4a25-840a-abe01b3e3bae",
   "metadata": {},
   "outputs": [],
   "source": [
    "# https://langchain-ai.github.io/langgraph/agents/overview/#what-is-an-agent\n",
    "\n",
    "def get_weather(city: str) -> str:  \n",
    "    \"\"\"Get weather for a given city.\"\"\"\n",
    "    return f\"It's always sunny in {city}!\"\n",
    "\n",
    "def pre_model_hook(state) -> None:\n",
    "    \"\"\"Pre-model hook.\"\"\"\n",
    "\n",
    "def post_model_hook(state) -> None:\n",
    "    \"\"\"Post-model hook.\"\"\"\n",
    "\n",
    "class ResponseFormat(BaseModel):\n",
    "    \"\"\"Response format for the agent.\"\"\"\n",
    "    result: str\n",
    "\n",
    "agent = create_react_agent(\n",
    "    llm,\n",
    "    tools=[get_weather],\n",
    "    pre_model_hook=pre_model_hook,\n",
    "    post_model_hook=post_model_hook,\n",
    "    response_format=ResponseFormat,\n",
    "    checkpointer=checkpointer\n",
    ")\n",
    "\n"
   ]
  },
  {
   "cell_type": "code",
   "execution_count": 39,
   "id": "79f771e1-0516-4a08-a64d-45375a87651e",
   "metadata": {},
   "outputs": [],
   "source": [
    "# running the agent\n",
    "# Checkpointer requires one or more of the following 'configurable' keys: thread_id, checkpoint_ns, checkpoint_id\n",
    "config = {\"configurable\": {\"thread_id\": \"1\"}}\n",
    "response = agent.invoke(\n",
    "    {\n",
    "        \"messages\": [\n",
    "            {\n",
    "                \"role\": \"user\",\n",
    "                \"content\": \"what is the weather in sf\"\n",
    "            }\n",
    "        ]\n",
    "    },\n",
    "    config)"
   ]
  },
  {
   "cell_type": "code",
   "execution_count": 40,
   "id": "1e99fde4-be26-422d-b550-643b2329481c",
   "metadata": {},
   "outputs": [
    {
     "data": {
      "text/plain": [
       "{'messages': [HumanMessage(content='what is the weather in sf', additional_kwargs={}, response_metadata={}, id='769bc605-f399-49bc-af3c-922a643a56ce'),\n",
       "  AIMessage(content='', additional_kwargs={'tool_calls': [{'id': 'call_MVZhhmGxBuwJ6TllpK7AQtnd', 'function': {'arguments': '{\"city\":\"San Francisco\"}', 'name': 'get_weather'}, 'type': 'function'}], 'refusal': None}, response_metadata={'token_usage': {'completion_tokens': 15, 'prompt_tokens': 50, 'total_tokens': 65, 'completion_tokens_details': {'accepted_prediction_tokens': 0, 'audio_tokens': 0, 'reasoning_tokens': 0, 'rejected_prediction_tokens': 0}, 'prompt_tokens_details': {'audio_tokens': 0, 'cached_tokens': 0}}, 'model_name': 'gpt-4o-mini-2024-07-18', 'system_fingerprint': 'fp_34a54ae93c', 'id': 'chatcmpl-C21ZCGiiX8xJKoyNgDKDNc0vN0NY6', 'service_tier': 'default', 'finish_reason': 'tool_calls', 'logprobs': None}, id='run--537ff862-6d41-41b5-9cb5-0b058f90968d-0', tool_calls=[{'name': 'get_weather', 'args': {'city': 'San Francisco'}, 'id': 'call_MVZhhmGxBuwJ6TllpK7AQtnd', 'type': 'tool_call'}], usage_metadata={'input_tokens': 50, 'output_tokens': 15, 'total_tokens': 65, 'input_token_details': {'audio': 0, 'cache_read': 0}, 'output_token_details': {'audio': 0, 'reasoning': 0}}),\n",
       "  ToolMessage(content=\"It's always sunny in San Francisco!\", name='get_weather', id='d0b1a5e3-95f3-4be9-b61e-1cdf1d9cf34c', tool_call_id='call_MVZhhmGxBuwJ6TllpK7AQtnd'),\n",
       "  AIMessage(content='The weather in San Francisco is always sunny!', additional_kwargs={'refusal': None}, response_metadata={'token_usage': {'completion_tokens': 10, 'prompt_tokens': 80, 'total_tokens': 90, 'completion_tokens_details': {'accepted_prediction_tokens': 0, 'audio_tokens': 0, 'reasoning_tokens': 0, 'rejected_prediction_tokens': 0}, 'prompt_tokens_details': {'audio_tokens': 0, 'cached_tokens': 0}}, 'model_name': 'gpt-4o-mini-2024-07-18', 'system_fingerprint': 'fp_34a54ae93c', 'id': 'chatcmpl-C21ZDQmhEBIG2wlDkSDWYdReaE2AE', 'service_tier': 'default', 'finish_reason': 'stop', 'logprobs': None}, id='run--a765f6d8-2e0d-47f5-a2b6-ad07dd9c8454-0', usage_metadata={'input_tokens': 80, 'output_tokens': 10, 'total_tokens': 90, 'input_token_details': {'audio': 0, 'cache_read': 0}, 'output_token_details': {'audio': 0, 'reasoning': 0}})],\n",
       " 'structured_response': ResponseFormat(result='The weather in San Francisco is always sunny!')}"
      ]
     },
     "execution_count": 40,
     "metadata": {},
     "output_type": "execute_result"
    }
   ],
   "source": [
    "# a couple of use cases for models\n",
    "response #checking the whole response"
   ]
  },
  {
   "cell_type": "code",
   "execution_count": 54,
   "id": "d8653608-0dbc-45fa-be1f-205032fa2db9",
   "metadata": {},
   "outputs": [
    {
     "data": {
      "text/plain": [
       "[{'name': 'get_weather',\n",
       "  'args': {'city': 'San Francisco'},\n",
       "  'id': 'call_MVZhhmGxBuwJ6TllpK7AQtnd',\n",
       "  'type': 'tool_call'}]"
      ]
     },
     "execution_count": 54,
     "metadata": {},
     "output_type": "execute_result"
    }
   ],
   "source": [
    "response[\"messages\"][1].tool_calls"
   ]
  },
  {
   "cell_type": "code",
   "execution_count": null,
   "id": "7b19cde7-8d3d-467c-872d-bba735d95cf9",
   "metadata": {},
   "outputs": [],
   "source": []
  },
  {
   "cell_type": "code",
   "execution_count": null,
   "id": "2704fc85-061b-4056-b495-d61a53cf55b3",
   "metadata": {},
   "outputs": [],
   "source": []
  }
 ],
 "metadata": {
  "kernelspec": {
   "display_name": "Python 3 (ipykernel)",
   "language": "python",
   "name": "python3"
  },
  "language_info": {
   "codemirror_mode": {
    "name": "ipython",
    "version": 3
   },
   "file_extension": ".py",
   "mimetype": "text/x-python",
   "name": "python",
   "nbconvert_exporter": "python",
   "pygments_lexer": "ipython3",
   "version": "3.12.11"
  }
 },
 "nbformat": 4,
 "nbformat_minor": 5
}
