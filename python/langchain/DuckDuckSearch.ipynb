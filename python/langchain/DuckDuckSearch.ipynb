{
 "cells": [
  {
   "cell_type": "markdown",
   "id": "5a1bc858-b668-4bb3-8abc-1697e5fd4efc",
   "metadata": {},
   "source": [
    "# Searching with DuckDuckGo\n",
    "first install deps\n",
    "pip install -qU ddgs langchain-community\n"
   ]
  },
  {
   "cell_type": "code",
   "execution_count": 5,
   "id": "d7bb0eeb-2891-49ea-8e3a-21704214e802",
   "metadata": {},
   "outputs": [
    {
     "name": "stderr",
     "output_type": "stream",
     "text": [
      "/home/santy/miniforge3/lib/python3.12/site-packages/langchain_community/utilities/duckduckgo_search.py:63: RuntimeWarning: This package (`duckduckgo_search`) has been renamed to `ddgs`! Use `pip install ddgs` instead.\n",
      "  with DDGS() as ddgs:\n"
     ]
    },
    {
     "data": {
      "text/plain": [
       "'3 days ago · Barack Obama was the first African American president of the United States (2009–17). He oversaw the recovery of the U.S. economy (from the Great Recession of 2008–09) …Barack Obama - 44th President, Political …Barack Obama - Post-Presidency, …Barack Obama - Budget Battles, …Barack Obama - Health Care Reform: …Barack Obama - Scandals, Challenges, …Barack Obama - Iraq, Afghanistan, Politics: …Michelle Obama, American first lady …Other articles where S. Ann Dunham is … Feb 5, 2025 · Birth place: Honolulu, Hawaii. Birth name: Barack Hussein Obama Jr. Father: Barack Hussein Obama, goat herder-turned-economist. Mother: Stanley Ann (Dunham) Obama Soetoro, … Jun 18, 2025 · 01 Born on August 4, 1961, in Honolulu, Hawaii, Obama is the first U.S. president born outside the continental United States. 02 His full name is Barack Hussein Obama II, named … Jul 15, 2025 · Barack Obama was born on August 4, 1961, in Honolulu, Hawaii, making him the first U.S. president to be born outside the contiguous United States. His father, Barack Hussein … Nov 4, 2024 · A member of the Democratic Party, Obama was the first African-American president of the United States. He previously served as a U.S. senator from Illinois from 2005 to 2008 and …'"
      ]
     },
     "execution_count": 5,
     "metadata": {},
     "output_type": "execute_result"
    }
   ],
   "source": [
    "from langchain_community.tools import DuckDuckGoSearchRun\n",
    "\n",
    "search = DuckDuckGoSearchRun()\n",
    "\n",
    "search.invoke(\"Obama's first name?\")"
   ]
  },
  {
   "cell_type": "code",
   "execution_count": 6,
   "id": "bd42f29a-4280-485d-a130-274bcad7f166",
   "metadata": {},
   "outputs": [
    {
     "name": "stderr",
     "output_type": "stream",
     "text": [
      "/home/santy/miniforge3/lib/python3.12/site-packages/langchain_community/utilities/duckduckgo_search.py:63: RuntimeWarning: This package (`duckduckgo_search`) has been renamed to `ddgs`! Use `pip install ddgs` instead.\n",
      "  with DDGS() as ddgs:\n"
     ]
    },
    {
     "data": {
      "text/plain": [
       "'snippet: Barack Hussein Obama II[a] (born August 4, 1961) is an American politician who was the 44th president of the United States from …, title: Barack Obama - Wikipedia, link: https://en.wikipedia.org/wiki/Barack_Obama, snippet: 3 days ago · Barack Obama, the 44th President of the United States, broke barriers as the first African-American …, title: Barack Obama | Biography, Parents, Education, Presidency, B…, link: https://www.britannica.com/biography/Barack-Obama, snippet: President Obama announced plans to normalize foreign relations with Cuba in conjunction with President Castro, …, title: President Barack Obama | Barack Obama Presidential Library, link: https://www.obamalibrary.gov/obamas/president-barack-obama, snippet: May 1, 2023 · Barack Obama is the first Black president of the United States. Learn facts about him: his age, height, …, title: Barack Obama: Biography, 44th U.S. President, Politician, link: https://www.biography.com/political-figures/barack-obama'"
      ]
     },
     "execution_count": 6,
     "metadata": {},
     "output_type": "execute_result"
    }
   ],
   "source": [
    "from langchain_community.tools import DuckDuckGoSearchResults\n",
    "\n",
    "search = DuckDuckGoSearchResults()\n",
    "\n",
    "search.invoke(\"Obama\")"
   ]
  },
  {
   "cell_type": "markdown",
   "id": "c83d8930-0da7-4340-9004-0c4a5f0c56b1",
   "metadata": {},
   "source": [
    "By default the results are returned as a comma-separated string of key-value pairs from the original search results. You can also choose to return the search results as a list by setting output_format=\"list\" or as a JSON string by setting output_format=\"json\"."
   ]
  },
  {
   "cell_type": "code",
   "execution_count": 7,
   "id": "4cc17c95-2491-4610-9b92-4156b07a7b3e",
   "metadata": {},
   "outputs": [
    {
     "name": "stderr",
     "output_type": "stream",
     "text": [
      "/home/santy/miniforge3/lib/python3.12/site-packages/langchain_community/utilities/duckduckgo_search.py:63: RuntimeWarning: This package (`duckduckgo_search`) has been renamed to `ddgs`! Use `pip install ddgs` instead.\n",
      "  with DDGS() as ddgs:\n"
     ]
    },
    {
     "data": {
      "text/plain": [
       "[{'snippet': 'Barack Hussein Obama II[a] (born August 4, 1961) is an American politician who was the 44th president of the United States from 2009 to 2017. A member of the Democratic Party, he was the first African American president.',\n",
       "  'title': 'Barack Obama - Wikipedia',\n",
       "  'link': 'https://en.wikipedia.org/wiki/Barack_Obama'},\n",
       " {'snippet': '3 days ago · Barack Obama, the 44th President of the United States, broke barriers as the first African-American president and implemented significant healthcare reforms during his tenure.',\n",
       "  'title': 'Barack Obama | Biography, Parents, Education, Presidency, Books ...',\n",
       "  'link': 'https://www.britannica.com/biography/Barack-Obama'},\n",
       " {'snippet': 'President Obama announced plans to normalize foreign relations with Cuba in conjunction with President Castro, including reopening the U.S. Embassy in Havana in July 2015. The First Family visited Cuba in March 2016, making President Obama the first sitting President to visit the nation in 90 years. Post-Presidency',\n",
       "  'title': 'President Barack Obama | Barack Obama Presidential Library',\n",
       "  'link': 'https://www.obamalibrary.gov/obamas/president-barack-obama'},\n",
       " {'snippet': 'May 1, 2023 · Barack Obama is the first Black president of the United States. Learn facts about him: his age, height, leadership legacy, quotes, family, and more.',\n",
       "  'title': 'Barack Obama: Biography, 44th U.S. President, Politician',\n",
       "  'link': 'https://www.biography.com/political-figures/barack-obama'}]"
      ]
     },
     "execution_count": 7,
     "metadata": {},
     "output_type": "execute_result"
    }
   ],
   "source": [
    "search = DuckDuckGoSearchResults(output_format=\"list\")\n",
    "\n",
    "search.invoke(\"Obama\")"
   ]
  },
  {
   "cell_type": "code",
   "execution_count": null,
   "id": "d91646ea-8de1-46cf-a5c0-9608f0d697ed",
   "metadata": {},
   "outputs": [],
   "source": []
  }
 ],
 "metadata": {
  "kernelspec": {
   "display_name": "Python 3 (ipykernel)",
   "language": "python",
   "name": "python3"
  },
  "language_info": {
   "codemirror_mode": {
    "name": "ipython",
    "version": 3
   },
   "file_extension": ".py",
   "mimetype": "text/x-python",
   "name": "python",
   "nbconvert_exporter": "python",
   "pygments_lexer": "ipython3",
   "version": "3.12.11"
  }
 },
 "nbformat": 4,
 "nbformat_minor": 5
}
